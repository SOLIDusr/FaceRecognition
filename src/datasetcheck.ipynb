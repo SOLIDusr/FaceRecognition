{
 "cells": [
  {
   "cell_type": "code",
   "execution_count": null,
   "metadata": {},
   "outputs": [],
   "source": [
    "%pip install deepface\n",
    "%pip install scikit-learn\n",
    "%pip install tqdm\n",
    "%pip install numpy\n",
    "%pip install pillow\n",
    "%pip install matplotlib"
   ]
  },
  {
   "cell_type": "code",
   "execution_count": null,
   "metadata": {},
   "outputs": [],
   "source": [
    "from deepface import DeepFace as dface\n",
    "import os\n",
    "from glob import glob\n",
    "from sklearn.metrics import accuracy_score,  top_k_accuracy_score\n",
    "from tqdm import tqdm\n",
    "# !They are yellow even though works fine\n"
   ]
  },
  {
   "cell_type": "code",
   "execution_count": null,
   "metadata": {},
   "outputs": [],
   "source": [
    "def analyzeEmotion(imagePath: str) -> dict[str, any] | None:\n",
    "    \"\"\"Analyzes emotions in the picture with path provided\n",
    "\n",
    "    Args:\n",
    "        imagePath (str): Path to the image\n",
    "\n",
    "    Returns:\n",
    "        dict[str, any] | None:  either dict as the result or None if no face detected\n",
    "    \"\"\"\n",
    "    try:\n",
    "        result = dface.analyze(img_path=imagePath, actions=[\"emotion\"], enforce_detection=False)\n",
    "        return result[0]\n",
    "    except ValueError as e:\n",
    "        print(f\"Error processing image {imagePath}: {e}\")\n",
    "        return None"
   ]
  },
  {
   "cell_type": "code",
   "execution_count": null,
   "metadata": {},
   "outputs": [],
   "source": [
    "def getEmotionFromPath(imagePath: str) -> str:\n",
    "    \"\"\"Returns 2nd-layer directory\n",
    "\n",
    "    Args:\n",
    "        imagePath (str): Path to the image\n",
    "\n",
    "    Returns:\n",
    "        str: 2nd-layer directory\n",
    "    \"\"\"\n",
    "    return imagePath.split(\"\\\\\")[1]"
   ]
  },
  {
   "cell_type": "code",
   "execution_count": null,
   "metadata": {},
   "outputs": [],
   "source": [
    "def checkGuess(imagePath: str, result: str) -> bool:\n",
    "    \"\"\"Checks if images path contains result\n",
    "\n",
    "    Args:\n",
    "        imagePath (str): Image Path\n",
    "        result (str): String with emotion. Example: \"happy\"\n",
    "\n",
    "    Returns:\n",
    "        bool: _description_\n",
    "    \"\"\"\n",
    "    emotion = getEmotionFromPath(imagePath=imagePath)\n",
    "    return emotion == result.lower()"
   ]
  },
  {
   "cell_type": "code",
   "execution_count": null,
   "metadata": {},
   "outputs": [],
   "source": [
    "def loadImages(imgDirectory: str, fileFormat = \".jpg\") -> list[str]:\n",
    "    \"\"\"uses glob walk to collect every file in directory with provided file format\n",
    "\n",
    "    Args:\n",
    "        imgDirectory (str): directory for dataset\n",
    "        fileFormat (str, optional): Picture file format in dataset. Defaults to \".jpg\".\n",
    "\n",
    "    Raises:\n",
    "        FileNotFoundError: if files were not found\n",
    "\n",
    "    Returns:\n",
    "        list[str]: list with the images pathes\n",
    "    \"\"\"\n",
    "    images = [y for x in os.walk(imgDirectory) for y in glob(os.path.join(x[0], f'*{fileFormat}'))]\n",
    "    if len(images) == 0:\n",
    "        raise FileNotFoundError(f\"No photos found in {imgDirectory} or directory doesn't exist\")\n",
    "    return images"
   ]
  },
  {
   "cell_type": "code",
   "execution_count": null,
   "metadata": {},
   "outputs": [],
   "source": [
    "# Set dataset directory and extract images pathes\n",
    "datasetDirectory = \"../babyset\"\n",
    "images = loadImages(imgDirectory=datasetDirectory)\n",
    "\n",
    "# Set initial variables to 0\n",
    "correctGuesses, incorrectGuesses, faceNotFound = 0, 0, 0\n",
    "# Create list variables for yTrue and yProbs\n",
    "yTrue = []\n",
    "yPredProbs = []\n",
    "# for every image in images analyze emotion, get data, verify and save\n",
    "for image in tqdm(images):\n",
    "    result = analyzeEmotion(image)\n",
    "    emotionResult = result[\"emotion\"]\n",
    "    dominantEmotion = result.get(\"dominant_emotion\")\n",
    "    if dominantEmotion is None:\n",
    "        faceNotFound += 1\n",
    "        continue\n",
    "    yTrue.append(getEmotionFromPath(image))\n",
    "    yPredProbs.append(list(emotionResult.values()))\n",
    "    # count every correct | incorrect guess\n",
    "    if checkGuess(image, dominantEmotion):\n",
    "        correctGuesses += 1\n",
    "    else:\n",
    "        incorrectGuesses += 1\n"
   ]
  },
  {
   "cell_type": "code",
   "execution_count": null,
   "metadata": {},
   "outputs": [],
   "source": [
    "print(f\"Correct {correctGuesses} \\nIncorrect {incorrectGuesses} \\nFaces not found {faceNotFound}\")\n",
    "\n",
    "print(f\"Top-1 accuracy - {round(top_k_accuracy_score(y_true=yTrue, y_score=yPredProbs, k=1), 2)}\\n\"+\n",
    "      f\"Top-3 accuracy - {round(top_k_accuracy_score(y_true=yTrue, y_score=yPredProbs, k=3), 2)}\\n\"+\n",
    "      f\"Top-5 accuracy - {round(top_k_accuracy_score(y_true=yTrue, y_score=yPredProbs, k=5), 2)}\")"
   ]
  },
  {
   "cell_type": "code",
   "execution_count": null,
   "metadata": {},
   "outputs": [],
   "source": [
    "\n",
    "import random\n",
    "import matplotlib.pyplot as plt\n",
    "import numpy as np\n",
    "from PIL import Image\n",
    "# !They are yellow even though works fine\n",
    "\n",
    "# random show 5 images with analysis\n",
    "for i in range(5):\n",
    "    imagePath = random.choice(images)\n",
    "    image = np.asarray(Image.open(imagePath))\n",
    "    plt.imshow(image)\n",
    "    result = analyzeEmotion(imagePath=imagePath)[\"dominant_emotion\"]\n",
    "    plt.text(10, 10, result, bbox=dict(facecolor='white', alpha=0.5))\n",
    "    plt.show()\n"
   ]
  }
 ],
 "metadata": {
  "kernelspec": {
   "display_name": "Python 3",
   "language": "python",
   "name": "python3"
  },
  "language_info": {
   "codemirror_mode": {
    "name": "ipython",
    "version": 3
   },
   "file_extension": ".py",
   "mimetype": "text/x-python",
   "name": "python",
   "nbconvert_exporter": "python",
   "pygments_lexer": "ipython3",
   "version": "3.12.4"
  }
 },
 "nbformat": 4,
 "nbformat_minor": 2
}
