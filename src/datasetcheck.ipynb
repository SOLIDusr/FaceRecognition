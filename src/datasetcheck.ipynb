{
 "cells": [
  {
   "cell_type": "code",
   "execution_count": null,
   "metadata": {},
   "outputs": [],
   "source": [
    "%pip install deepface\n",
    "%pip install scikit-learn\n",
    "%pip install tqdm\n",
    "%pip install numpy\n",
    "%pip install pillow\n",
    "%pip install matplotlib"
   ]
  },
  {
   "cell_type": "code",
   "execution_count": null,
   "metadata": {},
   "outputs": [],
   "source": [
    "from deepface import DeepFace as dface\n",
    "import os\n",
    "from glob import glob\n",
    "from sklearn.metrics import accuracy_score,  top_k_accuracy_score\n",
    "from tqdm import tqdm\n",
    "# !They are yellow even though works fine\n"
   ]
  },
  {
   "cell_type": "code",
   "execution_count": null,
   "metadata": {},
   "outputs": [],
   "source": [
    "def analyzeEmotion(imagePath: str) -> str | None:\n",
    "    try:\n",
    "        result = dface.analyze(img_path=imagePath, actions=[\"emotion\"], enforce_detection=False)\n",
    "        return result[0]\n",
    "    except Exception as e:\n",
    "        print(f\"Error processing image {imagePath}: {e}\")\n",
    "        return None"
   ]
  },
  {
   "cell_type": "code",
   "execution_count": null,
   "metadata": {},
   "outputs": [],
   "source": [
    "def getEmotionFromPath(imagePath: str) -> str:\n",
    "    return imagePath.split(\"\\\\\")[1]"
   ]
  },
  {
   "cell_type": "code",
   "execution_count": null,
   "metadata": {},
   "outputs": [],
   "source": [
    "def checkGuess(imagePath: str, result: str) -> bool:\n",
    "    emotion = getEmotionFromPath(imagePath=imagePath)\n",
    "    return emotion == result.lower()"
   ]
  },
  {
   "cell_type": "code",
   "execution_count": null,
   "metadata": {},
   "outputs": [],
   "source": [
    "def loadImages(imgDirectory: str, fileFormat = \".jpg\") -> list[str]:\n",
    "    images = [y for x in os.walk(imgDirectory) for y in glob(os.path.join(x[0], f'*{fileFormat}'))]\n",
    "    if len(images) == 0:\n",
    "        raise FileNotFoundError(f\"No photos found in {imgDirectory} or directory doesn't exist\")\n",
    "    return images"
   ]
  },
  {
   "cell_type": "code",
   "execution_count": null,
   "metadata": {},
   "outputs": [],
   "source": [
    "imgDirectory = \"../babyset\"\n",
    "images = loadImages(imgDirectory=imgDirectory)\n",
    "\n",
    "correctGuesses, incorrectGuesses, faceNotFound = 0, 0, 0\n",
    "\n",
    "yTrue = []\n",
    "yPredProbs = []\n",
    "\n",
    "for image in tqdm(images):\n",
    "    result = analyzeEmotion(image)\n",
    "    emotionResult = result[\"emotion\"]\n",
    "    dominantEmotion = result.get(\"dominant_emotion\")\n",
    "    if dominantEmotion is None:\n",
    "        faceNotFound += 1\n",
    "        continue\n",
    "    yTrue.append(getEmotionFromPath(image))\n",
    "    yPredProbs.append(list(emotionResult.values()))\n",
    "\n",
    "    if checkGuess(image, dominantEmotion):\n",
    "        correctGuesses += 1\n",
    "    else:\n",
    "        incorrectGuesses += 1\n"
   ]
  },
  {
   "cell_type": "code",
   "execution_count": null,
   "metadata": {},
   "outputs": [],
   "source": [
    "print(f\"Correct {correctGuesses} \\nIncorrect {incorrectGuesses} \\nFaces not found {faceNotFound}\")\n",
    "\n",
    "print(f\"Top-1 accuracy - {round(top_k_accuracy_score(y_true=yTrue, y_score=yPredProbs, k=1), 2)}\\n\"+\n",
    "      f\"Top-3 accuracy - {round(top_k_accuracy_score(y_true=yTrue, y_score=yPredProbs, k=3), 2)}\\n\"+\n",
    "      f\"Top-5 accuracy - {round(top_k_accuracy_score(y_true=yTrue, y_score=yPredProbs, k=5), 2)}\")"
   ]
  },
  {
   "cell_type": "code",
   "execution_count": null,
   "metadata": {},
   "outputs": [],
   "source": [
    "\n",
    "import random\n",
    "import matplotlib.pyplot as plt\n",
    "import numpy as np\n",
    "from PIL import Image\n",
    "# !They are yellow even though works fine\n",
    "\n",
    "\n",
    "for i in range(5):\n",
    "    imagePath = random.choice(images)\n",
    "    image = np.asarray(Image.open(imagePath))\n",
    "    plt.imshow(image)\n",
    "    result = analyzeEmotion(imagePath=imagePath)[\"dominant_emotion\"]\n",
    "    plt.text(10, 10, result, bbox=dict(facecolor='white', alpha=0.5))\n",
    "    plt.show()\n"
   ]
  }
 ],
 "metadata": {
  "kernelspec": {
   "display_name": "Python 3",
   "language": "python",
   "name": "python3"
  },
  "language_info": {
   "codemirror_mode": {
    "name": "ipython",
    "version": 3
   },
   "file_extension": ".py",
   "mimetype": "text/x-python",
   "name": "python",
   "nbconvert_exporter": "python",
   "pygments_lexer": "ipython3",
   "version": "3.12.4"
  }
 },
 "nbformat": 4,
 "nbformat_minor": 2
}
